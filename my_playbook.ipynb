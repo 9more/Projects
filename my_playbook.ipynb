{
  "nbformat": 4,
  "nbformat_minor": 0,
  "metadata": {
    "colab": {
      "provenance": [],
      "authorship_tag": "ABX9TyOJXmQ9nMpdtQURBNNpH2Xe",
      "include_colab_link": true
    },
    "kernelspec": {
      "name": "python3",
      "display_name": "Python 3"
    },
    "language_info": {
      "name": "python"
    }
  },
  "cells": [
    {
      "cell_type": "markdown",
      "metadata": {
        "id": "view-in-github",
        "colab_type": "text"
      },
      "source": [
        "<a href=\"https://colab.research.google.com/github/9more/Projects/blob/main/my_playbook.ipynb\" target=\"_parent\"><img src=\"https://colab.research.google.com/assets/colab-badge.svg\" alt=\"Open In Colab\"/></a>"
      ]
    },
    {
      "cell_type": "code",
      "source": [
        "import numpy as np\n",
        "import pandas as pd\n",
        "import matplotlib.pyplot as plt\n",
        "from sklearn.preprocessing import StandardScaler\n",
        "from sklearn.preprocessing import PolynomialFeatures\n",
        "from sklearn.metrics import mean_squared_error\n",
        "from sklearn.metrics import root_mean_squared_error\n",
        "from sklearn.model_selection import train_test_split\n",
        "from sklearn.linear_model import Ridge\n",
        "from sklearn.linear_model import LassoCV\n",
        "from sklearn.model_selection import GridSearchCV\n",
        "import warnings\n",
        "warnings.filterwarnings('ignore')"
      ],
      "metadata": {
        "id": "yoiUZynJRsXt"
      },
      "execution_count": null,
      "outputs": []
    },
    {
      "cell_type": "code",
      "source": [
        "X=data[:,:-1]\n",
        "y=data[:,-1]\n",
        "X_train, X_test, y_train, y_test = train_test_split(X, y, test_size=0.2, random_state=42)\n",
        "erro=[]\n",
        "alph=[]\n",
        "degr=[]"
      ],
      "metadata": {
        "id": "H6c6Z8Eyi8nC"
      },
      "execution_count": null,
      "outputs": []
    },
    {
      "cell_type": "code",
      "source": [
        "for x in deg:\n",
        "  trans = PolynomialFeatures(degree=x)\n",
        "  X_train_trans = trans.fit_transform(X_train)\n",
        "  X_test_trans = trans.transform(X_test)\n",
        "  for a in alp:\n",
        "    ridge = Ridge(alpha= a)\n",
        "    ridge.fit(X_train_trans, y_train)\n",
        "    y_pred = ridge.predict(X_test_trans)\n",
        "    mse = root_mean_squared_error(y_test, y_pred)\n",
        "    erro.append(mse)\n",
        "    alph.append(y_pred)\n",
        "    degr.append(x)\n",
        "\n",
        "    #print(f\"Mean Squared Error for degree {x} and alpha {a}: {mse}\")\n",
        "\n"
      ],
      "metadata": {
        "id": "RsKKE1MOqSjk"
      },
      "execution_count": null,
      "outputs": []
    },
    {
      "cell_type": "code",
      "source": [
        "e = {'error':erro, 'alpha':alph, 'degree':degr}\n",
        "e = pd.DataFrame(e)"
      ],
      "metadata": {
        "id": "AhvXo3ZKBROm"
      },
      "execution_count": null,
      "outputs": []
    },
    {
      "cell_type": "code",
      "source": [
        "e.groupby('degree')['error'].mean()"
      ],
      "metadata": {
        "id": "1QVME_8OETGZ"
      },
      "execution_count": null,
      "outputs": []
    },
    {
      "cell_type": "code",
      "source": [
        "ridge = RidgeCV(alphas=alpha, cv=5)"
      ],
      "metadata": {
        "id": "47z-w81W5Dzp"
      },
      "execution_count": null,
      "outputs": []
    },
    {
      "cell_type": "code",
      "source": [
        "X= data.drop('E', axis=1)\n",
        "y= data['E']"
      ],
      "metadata": {
        "id": "gdDdJyED5RIg"
      },
      "execution_count": null,
      "outputs": []
    },
    {
      "cell_type": "code",
      "source": [
        "Xs= StandardScaler().fit_transform(X)\n",
        "Xtest = Xs.transform(X)"
      ],
      "metadata": {
        "id": "mFQ9kOGz5acY"
      },
      "execution_count": null,
      "outputs": []
    },
    {
      "cell_type": "markdown",
      "source": [
        "##Model Selection"
      ],
      "metadata": {
        "id": "nrIpsDjO54lz"
      }
    },
    {
      "cell_type": "code",
      "source": [
        "\n",
        "from sklearn.datasets import load_iris"
      ],
      "metadata": {
        "id": "LZ7Ct5LV5qX0"
      },
      "execution_count": null,
      "outputs": []
    },
    {
      "cell_type": "code",
      "source": [
        "iris = load_iris()\n",
        "iris.keys()\n",
        "X, y = iris.data, iris.target"
      ],
      "metadata": {
        "id": "y5ctDBxF6cn2"
      },
      "execution_count": null,
      "outputs": []
    },
    {
      "cell_type": "code",
      "source": [
        "for a in alpha:\n",
        "  ridge = RidgeCV(alphas= [a], cv=5)\n",
        "  lasso = LassoCV(alphas=[a], cv=5)\n",
        "  ridge.fit(X,y)\n",
        "  lasso.fit(X,y)\n",
        "  lr = LinearRegression()\n",
        "  lr.fit(X,y)\n",
        "  print(a)\n",
        "  (f'ridge:=  {mean_squared_error(ridge.predict(X), y)}')\n",
        "  print(f'lasso:=  {mean_squared_error(lasso.predict(X), y)}')\n",
        "  print(f'reg:=  {mean_squared_error(lr.predict(X), y)}:2f')"
      ],
      "metadata": {
        "id": "q351J6O96fOf"
      },
      "execution_count": null,
      "outputs": []
    },
    {
      "cell_type": "code",
      "source": [
        "import csv\n",
        "a=r'\"C:\\Users\\Computer 4\\Desktop\\csv.csv\"'\n",
        "with open('csv', 'r', newline='', encoding='utf-8') as file:\n",
        "    reader = csv.reader(file)\n",
        "    row_write=[]\n",
        "    for row in reader:\n",
        "        row = sorted(row, reverse=True, key=lambda x: x>row[7])\n",
        "        row_write.append(row)\n",
        "    with open('cv', 'w') as file:\n",
        "        writer = csv.writer(file)\n",
        "        writer.writerows(row_write)\n"
      ],
      "metadata": {
        "id": "5x9cmm-StI_3"
      },
      "execution_count": null,
      "outputs": []
    },
    {
      "cell_type": "code",
      "source": [
        "model = LinearRegression()\n",
        "model.fit(X,y)"
      ],
      "metadata": {
        "id": "2Q9iHfFVosRI"
      },
      "execution_count": null,
      "outputs": []
    },
    {
      "cell_type": "code",
      "source": [
        "u= (model.predict(X))"
      ],
      "metadata": {
        "id": "ODKNntg1ozew"
      },
      "execution_count": null,
      "outputs": []
    },
    {
      "cell_type": "code",
      "source": [
        "u= pd.Series(u, index=None)"
      ],
      "metadata": {
        "id": "lpWH-jogo4-D"
      },
      "execution_count": null,
      "outputs": []
    },
    {
      "cell_type": "code",
      "source": [
        "alpha=np.linspace(1,5,5)\n",
        "alpha=alpha.tolist()\n",
        "type(alpha)"
      ],
      "metadata": {
        "id": "AHWan9QSkMpe"
      },
      "execution_count": null,
      "outputs": []
    },
    {
      "cell_type": "code",
      "source": [
        "ridge = RidgeCV(alphas=alpha, cv=5)"
      ],
      "metadata": {
        "id": "N6gqaWbkkiPt"
      },
      "execution_count": null,
      "outputs": []
    },
    {
      "cell_type": "code",
      "source": [
        "X= data.drop('E', axis=1)\n",
        "y= data['E']"
      ],
      "metadata": {
        "id": "ptFbIDXqm7Q7"
      },
      "execution_count": null,
      "outputs": []
    },
    {
      "cell_type": "code",
      "source": [
        "Xs= StandardScaler().fit_transform(X)\n",
        "Xtest = Xs.transform(X)"
      ],
      "metadata": {
        "id": "PoqReMHjnEZo"
      },
      "execution_count": null,
      "outputs": []
    },
    {
      "cell_type": "code",
      "source": [
        "from sklearn.model_selection import cross_val_score, KFold\n",
        "from sklearn.svm import SVC\n",
        "from sklearn.datasets import load_iris"
      ],
      "metadata": {
        "id": "jI2o9wcW7ytA"
      },
      "execution_count": null,
      "outputs": []
    },
    {
      "cell_type": "markdown",
      "source": [
        "#Model Selection"
      ],
      "metadata": {
        "id": "qjwWMFhL7tUd"
      }
    },
    {
      "cell_type": "code",
      "source": [
        "iris = load_iris()\n",
        "iris.keys()\n",
        "X, y = iris.data, iris.target"
      ],
      "metadata": {
        "id": "oiHct6IS71LJ"
      },
      "execution_count": null,
      "outputs": []
    },
    {
      "cell_type": "code",
      "source": [
        "for a in alpha:\n",
        "  ridge = RidgeCV(alphas= [a], cv=5)\n",
        "  lasso = LassoCV(alphas=[a], cv=5)\n",
        "  ridge.fit(X,y)\n",
        "  lasso.fit(X,y)\n",
        "  lr = LinearRegression()\n",
        "  lr.fit(X,y)\n",
        "  print(a)\n",
        "  (f'ridge:=  {mean_squared_error(ridge.predict(X), y)}')\n",
        "  print(f'lasso:=  {mean_squared_error(lasso.predict(X), y)}')\n",
        "  print(f'reg:=  {mean_squared_error(lr.predict(X), y)}:2f')\n",
        "\n"
      ],
      "metadata": {
        "id": "CnMMUFlIms5H"
      },
      "execution_count": null,
      "outputs": []
    },
    {
      "cell_type": "code",
      "source": [
        "name='Dr. Ekpenyong Imoh, Dr Ogbuagu Mat, Prof Matthias Ekpenyong, Prof Godswill Ekpenyong'\n",
        "def splitt(x):\n",
        "  x=x.split()\n",
        "  print(x[0],x[1])\n",
        "\n",
        "#splitt_name=list(map(splitt, name.split(',')))"
      ],
      "metadata": {
        "id": "IASGB7RRQTbL"
      },
      "execution_count": null,
      "outputs": []
    },
    {
      "cell_type": "code",
      "source": [
        "def multi():\n",
        "  input_number = int(input(\"Enter a number: \"))\n",
        "  for i in range(13):\n",
        "    if i==2:\n",
        "      print('2 is excluded from table')\n",
        "      continue\n",
        "    else:\n",
        "      print('multiplication of %d and %d is %d' % (i,  input_number, i*input_number))\n",
        "      print(f'multiplication of {i} and {input_number} is {i*input_number}')"
      ],
      "metadata": {
        "id": "ud1GcOLaN5bP"
      },
      "execution_count": null,
      "outputs": []
    },
    {
      "cell_type": "code",
      "source": [
        "accum=0\n",
        "guess =input(\"type a number or q to quit: \")\n",
        "while guess !='q':\n",
        "    operator = input(\"type an operator: \")\n",
        "    guess =input(\"type a number or q to quit: \")\n",
        "    if operator == '+':\n",
        "      accum=accum+int(guess)\n",
        "    elif operator == '-':\n",
        "      accum=accum-int(guess)\n",
        "    elif operator == '*':\n",
        "      accum=accum*int(guess)\n",
        "    elif operator == '/':\n",
        "      accum=accum/int(guess)"
      ],
      "metadata": {
        "id": "Slb9nPzW4Hb3"
      },
      "execution_count": null,
      "outputs": []
    },
    {
      "cell_type": "code",
      "source": [
        "def pred():\n",
        "    try:\n",
        "      age=float(input('customer\\'s age:' ))\n",
        "      time=float(input('input time:' ))\n",
        "      c=age/1.5\n",
        "      d=time-12\n",
        "      f =0.2*c+0.6*d\n",
        "      print('predicted probability is:')\n",
        "      return round((f),2)\n",
        "    except:\n",
        "      print('invalid input')\n",
        "      print('please input a number')\n"
      ],
      "metadata": {
        "id": "PAuVvcTe4y4X"
      },
      "execution_count": null,
      "outputs": []
    },
    {
      "cell_type": "code",
      "source": [
        "def selection_criteria(**kwargs):\n",
        "  # Initialize i and t to default values to avoid UnboundLocalError\n",
        "  i = 0\n",
        "  t = 0\n",
        "  # Iterate over items in kwargs, which will give us (key, value) pairs.\n",
        "  for key, value in kwargs.items():\n",
        "    # Assume 'weigh' is the key for weight and 'age' for age.\n",
        "    if key == 'weigh':\n",
        "      i = value  # Assign weight to i\n",
        "    elif key == 'age':\n",
        "      t = value  # Assign age to t\n",
        "\n",
        "    # Proceed with the criteria check.\n",
        "    if i <= np.mean(np.array(weight)) and t <= 43:\n",
        "      print(i)\n",
        "      print(t)\n",
        "      print(\"player's weight of {} is less than the average\".format(i))\n",
        "      print('Hence, he is not qualified')\n",
        "    else:\n",
        "      print('player is qualified')"
      ],
      "metadata": {
        "id": "Oeu7VENQqFxG"
      },
      "execution_count": null,
      "outputs": []
    },
    {
      "cell_type": "code",
      "source": [
        "def selection_criteria1(*args):\n",
        "  for i in args:\n",
        "    if i <= np.mean(np.array(weight)):\n",
        "      print(i)\n",
        "      print(\"player's weight of {} is less than the avearge\".format(i))\n",
        "      print('Hence, he is not qualified')\n",
        "    else:\n",
        "      print('player is qualified')\n"
      ],
      "metadata": {
        "id": "EwzmPsm8ZTpc"
      },
      "execution_count": null,
      "outputs": []
    },
    {
      "cell_type": "code",
      "source": [
        "def my_text(a):\n",
        "  with open('text', 'w') as f:\n",
        "    f.write(a+ ' '+'are here to work')\n",
        "  with open('text', 'r') as f:\n",
        "    print(f.read())"
      ],
      "metadata": {
        "id": "Sr2HETrd5N4I"
      },
      "execution_count": null,
      "outputs": []
    },
    {
      "cell_type": "code",
      "source": [
        "def drp(x):\n",
        "  for i,y in x.iterrows():\n",
        "    if y['B']<=np.mean((x['B'])):\n",
        "      x.drop(i, inplace=True)"
      ],
      "metadata": {
        "id": "tuWsx7kLHXY4"
      },
      "execution_count": null,
      "outputs": []
    },
    {
      "source": [
        "def drp(x):\n",
        "  # Use index of the Series to access 'B' value instead of iterrows\n",
        "  if x['B'] <= np.mean(x['B']):\n",
        "      # Use .name to get the row index of the Series\n",
        "      x.drop(x.name, inplace=True)\n",
        "      # Since the function does not return any value, this line is removed:\n",
        "      # o ="
      ],
      "cell_type": "code",
      "metadata": {
        "id": "Y3fA3_maZOgZ"
      },
      "execution_count": null,
      "outputs": []
    }
  ]
}