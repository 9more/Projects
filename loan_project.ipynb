{
  "cells": [
    {
      "cell_type": "markdown",
      "metadata": {
        "id": "view-in-github",
        "colab_type": "text"
      },
      "source": [
        "<a href=\"https://colab.research.google.com/github/9more/Projects/blob/main/loan_project.ipynb\" target=\"_parent\"><img src=\"https://colab.research.google.com/assets/colab-badge.svg\" alt=\"Open In Colab\"/></a>"
      ]
    },
    {
      "cell_type": "markdown",
      "source": [
        "######This project seeks to identify and analyse the factors that led to a client's company defaulting on its debt. This project seeks to identify and analyse the factors that led to a client's company defaulting on its debt payment.\n",
        "##### A total of 227,000 data points were provided for the project.\n",
        "#####The project would start by cleaning and transforming the daateset for insightful analysis. This would include, among others, removing duplicates, formatting string objects and dates and creating a binary classification for the target variable.\n",
        "\n",
        "\n"
      ],
      "metadata": {
        "id": "7DPfArpxqW1m"
      }
    },
    {
      "cell_type": "code",
      "source": [
        "import numpy as np\n",
        "import pandas as pd\n",
        "import matplotlib.pyplot as plt\n",
        "import seaborn as sns\n",
        "import urllib.request\n",
        "import warnings\n",
        "warnings.filterwarnings('ignore')"
      ],
      "metadata": {
        "id": "Y5euE5PY1cJb"
      },
      "execution_count": null,
      "outputs": []
    },
    {
      "cell_type": "code",
      "source": [
        "from google.colab import files\n",
        "uploaded = files.upload('data_source')\n",
        "file_path = f\"./{list(uploaded.keys())[0]}\"\n",
        "df=pd.read_excel(file_path, skiprows=1)\n",
        "df.head()"
      ],
      "metadata": {
        "id": "ZvPuBgR-CtA_"
      },
      "execution_count": null,
      "outputs": []
    },
    {
      "cell_type": "code",
      "source": [
        "df=pd.read_excel('/content/data_source/data_source.xlsx', skiprows=1)\n",
        "df.head()"
      ],
      "metadata": {
        "id": "aBKMINDyGO96"
      },
      "execution_count": null,
      "outputs": []
    },
    {
      "cell_type": "code",
      "source": [
        "# Retrieving data from Google Sheet\n",
        "url = input('')\n",
        "sheet_id = url.split('/d/')[1].split('/edit')[0]\n",
        "csv_url = f'https://docs.google.com/spreadsheets/d/{sheet_id}/export?format=csv'\n",
        "data = pd.read_csv(csv_url)"
      ],
      "metadata": {
        "id": "ubOq2h3L1wqQ"
      },
      "execution_count": null,
      "outputs": []
    },
    {
      "cell_type": "code",
      "source": [
        "today=pd.to_datetime('today').tz_localize('UTC').tz_convert('Africa/Lagos')\n",
        "today"
      ],
      "metadata": {
        "colab": {
          "base_uri": "https://localhost:8080/"
        },
        "id": "zHiXRyCFb9pB",
        "outputId": "9ed590dc-2998-4d62-fb6f-625915e3af82"
      },
      "execution_count": null,
      "outputs": [
        {
          "output_type": "execute_result",
          "data": {
            "text/plain": [
              "Timestamp('2025-07-28 12:43:35.256160+0100', tz='Africa/Lagos')"
            ]
          },
          "metadata": {},
          "execution_count": 3
        }
      ]
    },
    {
      "cell_type": "code",
      "source": [
        "def data_cleaning(df): #Data Cleaning Process\n",
        "  df.drop_duplicates(inplace=True)\n",
        "  df.dropna(inplace=True)\n",
        "  df.set_index('customer_id', inplace=True)\n",
        "  df['sign_date']=pd.to_datetime(df['loan_signdate'],format='mixed')\n",
        "  df['loan_contractapproveddate'].replace('0000-00-00 00:00:00', '', inplace=True)\n",
        "  df['customer_date_of_birth'].replace('0000-00-00', '', inplace=True)\n",
        "  return df\n",
        "\n",
        "\n",
        "def data_transformations(df): #Data Transformation.\n",
        "  df['approved_date'] = pd.to_datetime(df['loan_contractapproveddate'], format='mixed')\n",
        "  df['sign_month'], df['approved_month']=(df['sign_date'].dt.month_name(), df['approved_date'].dt.month_name())\n",
        "  df['signed_year'], df['approved_year']=df['sign_date'].dt.year, df['approved_date'].dt.year\n",
        "  #df[['approved_year','signed_year']]=df[['approved_year','signed_year']]\n",
        "  df['customer_date_of_birth']= pd.to_datetime(df['customer_date_of_birth'])\n",
        "  df['customers age']= df['sign_date']- df['customer_date_of_birth']\n",
        "  #df['age']= df['sign_date'].dt.year - df['customer_date_of_birth']\n",
        "  df.columns=df.columns.str.lower()\n",
        "  df1=df.copy()\n",
        "  df1['status']=np.where(df1['loan_status'].isin(['BANKRUPTCY CONFIRMED', 'FINAL PAYMENT']), \"Default\", \"Non_Default\")\n",
        "  #df.map({})\n",
        "  return (df,df1)"
      ],
      "metadata": {
        "id": "I98OnWdG1giY"
      },
      "execution_count": null,
      "outputs": []
    },
    {
      "cell_type": "code",
      "source": [
        "def graph(df, n=None,i=None,j='bar'): # own more than 3 accts.\n",
        "  title = input('Enter Graph Title: ')\n",
        "  color = input('Enter Color: ')\n",
        "  if i=='country':\n",
        "    df.groupby(i)['df_status']\n",
        "    df.get(n).value_counts().unstack().plot(kind=j, figsize=(10,5), title=title, color=color)\n",
        "  else:\n",
        "    df.plot(kind=j, figsize=(10,5), title=title, color=color)\n",
        "    df[df[i]==i].\\\n",
        "    groupby(i)['df_status'].\\\n",
        "    value_counts().\\\n",
        "    unstack().\\\n",
        "    plot(kind=j)"
      ],
      "metadata": {
        "id": "IWu_OxvvZyv5"
      },
      "execution_count": null,
      "outputs": []
    },
    {
      "cell_type": "code",
      "source": [
        "data1 = data_transformations(data_cleaning(data.copy())) #Why acct not active\n",
        "data1[0].index.value_counts().head(10)"
      ],
      "metadata": {
        "colab": {
          "base_uri": "https://localhost:8080/",
          "height": 424
        },
        "id": "ja8BL5wrCQBN",
        "outputId": "bf1f766b-e970-4ab5-9610-5ea6d5b89491"
      },
      "execution_count": null,
      "outputs": [
        {
          "output_type": "execute_result",
          "data": {
            "text/plain": [
              "customer_id\n",
              "82011     26\n",
              "243203    19\n",
              "239372    18\n",
              "367567    17\n",
              "699507    17\n",
              "387476    16\n",
              "87968     15\n",
              "802169    15\n",
              "454460    14\n",
              "627138    14\n",
              "Name: count, dtype: int64"
            ],
            "text/html": [
              "<div>\n",
              "<style scoped>\n",
              "    .dataframe tbody tr th:only-of-type {\n",
              "        vertical-align: middle;\n",
              "    }\n",
              "\n",
              "    .dataframe tbody tr th {\n",
              "        vertical-align: top;\n",
              "    }\n",
              "\n",
              "    .dataframe thead th {\n",
              "        text-align: right;\n",
              "    }\n",
              "</style>\n",
              "<table border=\"1\" class=\"dataframe\">\n",
              "  <thead>\n",
              "    <tr style=\"text-align: right;\">\n",
              "      <th></th>\n",
              "      <th>count</th>\n",
              "    </tr>\n",
              "    <tr>\n",
              "      <th>customer_id</th>\n",
              "      <th></th>\n",
              "    </tr>\n",
              "  </thead>\n",
              "  <tbody>\n",
              "    <tr>\n",
              "      <th>82011</th>\n",
              "      <td>26</td>\n",
              "    </tr>\n",
              "    <tr>\n",
              "      <th>243203</th>\n",
              "      <td>19</td>\n",
              "    </tr>\n",
              "    <tr>\n",
              "      <th>239372</th>\n",
              "      <td>18</td>\n",
              "    </tr>\n",
              "    <tr>\n",
              "      <th>367567</th>\n",
              "      <td>17</td>\n",
              "    </tr>\n",
              "    <tr>\n",
              "      <th>699507</th>\n",
              "      <td>17</td>\n",
              "    </tr>\n",
              "    <tr>\n",
              "      <th>387476</th>\n",
              "      <td>16</td>\n",
              "    </tr>\n",
              "    <tr>\n",
              "      <th>87968</th>\n",
              "      <td>15</td>\n",
              "    </tr>\n",
              "    <tr>\n",
              "      <th>802169</th>\n",
              "      <td>15</td>\n",
              "    </tr>\n",
              "    <tr>\n",
              "      <th>454460</th>\n",
              "      <td>14</td>\n",
              "    </tr>\n",
              "    <tr>\n",
              "      <th>627138</th>\n",
              "      <td>14</td>\n",
              "    </tr>\n",
              "  </tbody>\n",
              "</table>\n",
              "</div><br><label><b>dtype:</b> int64</label>"
            ]
          },
          "metadata": {},
          "execution_count": 17
        }
      ]
    },
    {
      "cell_type": "code",
      "source": [
        "df['approved_time']=df['approved_time'].dt.total_seconds() / 3600"
      ],
      "metadata": {
        "id": "RHxvFW3CXP4S"
      },
      "execution_count": null,
      "outputs": []
    },
    {
      "cell_type": "code",
      "source": [
        "df['hour_bf_approval'], df['hour_af_sign']= df['sign_date'].dt.hour, df['approved_date'].dt.hour"
      ],
      "metadata": {
        "id": "aM8AGnwoMzI8"
      },
      "execution_count": null,
      "outputs": []
    },
    {
      "cell_type": "code",
      "source": [
        "df['after_sign']=df['approved_date'].dt.hour"
      ],
      "metadata": {
        "id": "1a4GDVJoqCgC"
      },
      "execution_count": null,
      "outputs": []
    },
    {
      "cell_type": "code",
      "source": [
        "df.rename(columns={'approved_time':'approved_time_hrs'}, inplace=True)"
      ],
      "metadata": {
        "id": "T8gaGPhyLIaU"
      },
      "execution_count": null,
      "outputs": []
    },
    {
      "cell_type": "code",
      "source": [
        "df['customer_date_of_birth'].replace('0', '', inplace=True)\n",
        "df['customer_date_of_birth']= pd.to_datetime(df['customer_date_of_birth'])\n",
        "df['customers age']= df['sign_date']- df['customer_date_of_birth']\n",
        "df['age']= df['sign_date'].dt.year - df['customers_date_of_birth']"
      ],
      "metadata": {
        "id": "CrRN6cOeju2F"
      },
      "execution_count": null,
      "outputs": []
    },
    {
      "source": [
        "df['age'] = df['age'].fillna(0).astype(int)"
      ],
      "cell_type": "code",
      "metadata": {
        "id": "Mg8N37cxn9ND"
      },
      "execution_count": null,
      "outputs": []
    },
    {
      "cell_type": "code",
      "source": [
        "def dropdf():\n",
        "  for i in df['df_status']:\n",
        "    if i !=['PAID IN FULL', 'ACTIVE','BANKRUPTCY CONFIRMED',\n",
        "       'FINAL PAYMENT PENDING']:\n",
        "        df.drop(i, axis=1,inplace=True)"
      ],
      "metadata": {
        "id": "Pcrk8Jpuwoyf"
      },
      "execution_count": null,
      "outputs": []
    },
    {
      "cell_type": "code",
      "source": [
        "def dropdf():\n",
        "  indices_to_drop = []\n",
        "  for index, row in df.iterrows():\n",
        "    if row['df_status'] not in ['PAID IN FULL', 'ACTIVE', 'BANKRUPTCY CONFIRMED', 'FINAL PAYMENT PENDING']:\n",
        "      indices_to_drop.append(index)\n",
        "  df.drop(indices_to_drop, axis=0, inplace=True)"
      ],
      "metadata": {
        "id": "3pCq8RSwo31T"
      },
      "execution_count": null,
      "outputs": []
    },
    {
      "cell_type": "code",
      "source": [
        "drop_items = ['PAID IN FULL', 'ACTIVE', 'BANKRUPTCY CONFIRMED', 'FINAL PAYMENT PENDING']\n",
        "ddf = df[df['df_status'].isin(drop_items)]"
      ],
      "metadata": {
        "id": "X8NyReVJGs2J"
      },
      "execution_count": null,
      "outputs": []
    },
    {
      "cell_type": "code",
      "source": [
        "ddf"
      ],
      "metadata": {
        "id": "CWpn38hhybrj"
      },
      "execution_count": null,
      "outputs": []
    }
  ],
  "metadata": {
    "colab": {
      "provenance": [],
      "mount_file_id": "1O5-qZ6LacVmU40NkOI3AQtPn3kV9Wrr0",
      "authorship_tag": "ABX9TyPVLxcDvnWRKgaHymU53R3X",
      "include_colab_link": true
    },
    "kernelspec": {
      "display_name": "Python 3",
      "name": "python3"
    },
    "language_info": {
      "name": "python"
    }
  },
  "nbformat": 4,
  "nbformat_minor": 0
}