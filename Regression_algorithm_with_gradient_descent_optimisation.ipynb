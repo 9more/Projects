{
  "nbformat": 4,
  "nbformat_minor": 0,
  "metadata": {
    "colab": {
      "provenance": [],
      "authorship_tag": "ABX9TyNNoJVtvuarSrGzWzcIw6jK",
      "include_colab_link": true
    },
    "kernelspec": {
      "name": "python3",
      "display_name": "Python 3"
    },
    "language_info": {
      "name": "python"
    }
  },
  "cells": [
    {
      "cell_type": "markdown",
      "metadata": {
        "id": "view-in-github",
        "colab_type": "text"
      },
      "source": [
        "<a href=\"https://colab.research.google.com/github/9more/Projects/blob/main/Regression_algorithm_with_gradient_descent_optimisation.ipynb\" target=\"_parent\"><img src=\"https://colab.research.google.com/assets/colab-badge.svg\" alt=\"Open In Colab\"/></a>"
      ]
    },
    {
      "cell_type": "code",
      "execution_count": 6,
      "metadata": {
        "id": "Xpp0srFFV7XS"
      },
      "outputs": [],
      "source": [
        "import numpy as np\n",
        "def trainihg(X,y):\n",
        "  w=np.zero(X.shape[1])\n",
        "  b= np.zero(1)\n",
        "  for i in range(X.shape[0]):\n",
        "    yhat=w@X.T+b\n",
        "    e=yhat-y\n",
        "    w1=w-0.01*e@X.T\n",
        "    b1=b-0.01*e\n",
        "    w,b=w1,b1\n",
        "  return w, b"
      ]
    },
    {
      "cell_type": "code",
      "source": [
        "def metric(w ,b, ytest, Xtest, measure='mse'):\n",
        "  if measure=='rmse':\n",
        "    y=w@Xtest.T+b\n",
        "    e=y-ytest\n",
        "    rmse=np.sqrt(np.mean(e**2))\n",
        "    return rmse\n",
        "  elif measure=='mae':\n",
        "    y=w@Xtest.T+b\n",
        "    e=y-ytest\n",
        "    mae=np.mean(np.abs(e))\n",
        "    return mae\n",
        "  else:\n",
        "    y=w@Xtest.T+b\n",
        "    e=y-ytest\n",
        "    mse=np.mean(e**2)\n",
        "    return mse"
      ],
      "metadata": {
        "id": "5GVtQfh9ZjHq"
      },
      "execution_count": 7,
      "outputs": []
    },
    {
      "cell_type": "code",
      "source": [
        "def prediction(w,b,Xtest):\n",
        "  yhat= np.dot(w,Xtest.T)+b\n",
        "  return yhat"
      ],
      "metadata": {
        "id": "iZXsbSS9Zt0L"
      },
      "execution_count": 5,
      "outputs": []
    }
  ]
}