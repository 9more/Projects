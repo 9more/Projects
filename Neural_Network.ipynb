{
  "nbformat": 4,
  "nbformat_minor": 0,
  "metadata": {
    "colab": {
      "provenance": [],
      "authorship_tag": "ABX9TyNmHQYys+GQekFh/8PNJulG",
      "include_colab_link": true
    },
    "kernelspec": {
      "name": "python3",
      "display_name": "Python 3"
    },
    "language_info": {
      "name": "python"
    }
  },
  "cells": [
    {
      "cell_type": "markdown",
      "metadata": {
        "id": "view-in-github",
        "colab_type": "text"
      },
      "source": [
        "<a href=\"https://colab.research.google.com/github/9more/Projects/blob/main/Neural_Network.ipynb\" target=\"_parent\"><img src=\"https://colab.research.google.com/assets/colab-badge.svg\" alt=\"Open In Colab\"/></a>"
      ]
    },
    {
      "cell_type": "markdown",
      "source": [
        "Neural Network algorithm for a single layer without custom libraries like Pytorch and Tensorflow.\n",
        "The model has four functions--model_train, model_eval, model_predict and history_graph. The step\n",
        "by step codes shows what goes on umder the hood.\n",
        "Feel free to use it for your analysis 😏"
      ],
      "metadata": {
        "id": "nypmufY9Odwg"
      }
    },
    {
      "cell_type": "code",
      "execution_count": 21,
      "metadata": {
        "id": "xDAegzq7w4pQ"
      },
      "outputs": [],
      "source": [
        "\"\"\"Neural Network algorithm for a single layer without custom libraries like Pytorch and Tensorflow.\n",
        "The model has four functions--model_train, model_eval, model_predict and history_graph. The step\n",
        "by step codes shows what goes on umder the hood.\n",
        "Feel free to use it for your analysis \"\"\"\n",
        "import numpy as np\n",
        "import pandas as pd\n",
        "import matplotlib.pyplot as plt\n",
        "def model_train(Xtrain, ytrain, activation='sigmoid', epoch=1):\n",
        "  np.random.seed(2)\n",
        "  w=np.random.rand(Xtrain.shape[1])\n",
        "  b=np.random.rand(1)  #initialising weights\n",
        "  history=[]\n",
        "  for i in range(len(Xtrain)):\n",
        "    z=w.T*Xtrain + b\n",
        "    if activation=='relu':yhat=np.maximum(0,z)\n",
        "    else: pass\n",
        "    yhat=np.maximum(0,z)\n",
        "    yhat=1/(1+np.exp(-z))   #sigmoid function activation\n",
        "    e=yhat-ytrain\n",
        "    history.append(e.T@e/len(Xtrain))\n",
        "    w= 1/len(Xtrain)*e*Xtrain*0.002\n",
        "    b= 1/len(Xtrain)*e.sum()*0.002\n",
        "  return w, b, yhat, history\n",
        "\n",
        "def model_eval(ytest, yhat, type = None):\n",
        "  score = (yhat>=0.5).astype(int)\n",
        "  accuracy = ((score==ytest).sum())/len(ytest)\n",
        "  FP = ((ytest == 0) & (score == 1)).sum()\n",
        "  TP = ((ytest == 1) & (score == 1)).sum()\n",
        "  FN=((ytest == 1) & (score == 0)).sum()\n",
        "  TN=((ytest == 0) & (score == 0)).sum()\n",
        "  precision = TP/(TP+FP)\n",
        "  recall = TP/(TP+FN)\n",
        "  metrics = {'Accuracy': accuracy, 'Precision': precision, 'Recall': recall}\n",
        "  return metrics\n",
        "\n",
        "def model_prediction(Xtest, w, b):\n",
        "  z=w.T*Xtest + b\n",
        "  yhat=1/(1+np.exp(-z))\n",
        "  return yhat\n",
        "\n",
        "def history_graph(history):\n",
        "  plt.plot(history, color = 'r')\n",
        "  plt.title('History Graph')\n",
        "  plt.xlabel('Epochs')\n",
        "  plt.ylabel('Loss')\n",
        "  plt.show()\n"
      ]
    },
    {
      "cell_type": "code",
      "source": [
        "model_eval(np.array([1.,1,1]),np.array([0.9,0.6,0.2]))#['Accuracy']"
      ],
      "metadata": {
        "colab": {
          "base_uri": "https://localhost:8080/"
        },
        "id": "9sRor8Zfn1dm",
        "outputId": "e5013a4e-9076-439b-df21-6d7b8bd13434"
      },
      "execution_count": 24,
      "outputs": [
        {
          "output_type": "execute_result",
          "data": {
            "text/plain": [
              "{'Accuracy': np.float64(0.6666666666666666),\n",
              " 'Precision': np.float64(1.0),\n",
              " 'Recall': np.float64(0.6666666666666666)}"
            ]
          },
          "metadata": {},
          "execution_count": 24
        }
      ]
    }
  ]
}