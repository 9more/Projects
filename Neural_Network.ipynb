{
  "nbformat": 4,
  "nbformat_minor": 0,
  "metadata": {
    "colab": {
      "provenance": [],
      "authorship_tag": "ABX9TyPunvPuPK0G1lswZray/f9J",
      "include_colab_link": true
    },
    "kernelspec": {
      "name": "python3",
      "display_name": "Python 3"
    },
    "language_info": {
      "name": "python"
    }
  },
  "cells": [
    {
      "cell_type": "markdown",
      "metadata": {
        "id": "view-in-github",
        "colab_type": "text"
      },
      "source": [
        "<a href=\"https://colab.research.google.com/github/9more/Projects/blob/main/Neural_Network.ipynb\" target=\"_parent\"><img src=\"https://colab.research.google.com/assets/colab-badge.svg\" alt=\"Open In Colab\"/></a>"
      ]
    },
    {
      "cell_type": "code",
      "execution_count": 44,
      "metadata": {
        "id": "xDAegzq7w4pQ"
      },
      "outputs": [],
      "source": [
        "import numpy as np\n",
        "import pandas as pd\n",
        "\n",
        "def model_train(Xtrain):\n",
        "  np.random.seed(2)\n",
        "  w=np.random.rand(Xtrain.shape[1])\n",
        "  b=np.random.rand(1)\n",
        "  z=w.T*Xtrain + b\n",
        "  yhat=1/(1+np.exp(-z))\n",
        "  history = {'loss':[]}\n",
        "  score = (yhat>=0.5).astype(int)\n",
        "  return score, history\n",
        "\n",
        "def model_eval(ytest, yhat, type = None):\n",
        "  score = (yhat>=0.5).astpype(int)\n",
        "  Acuuracy = (score==ytest).sum()/len(ytest)\n",
        "  FP = (ytest == 0 & score == 1).sum()\n",
        "  TP = (ytest == 1 & score == 1).sum()/ytest.sum()\n",
        "  return Acuuracy\n"
      ]
    }
  ]
}