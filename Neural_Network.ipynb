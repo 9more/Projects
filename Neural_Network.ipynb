{
  "nbformat": 4,
  "nbformat_minor": 0,
  "metadata": {
    "colab": {
      "provenance": [],
      "authorship_tag": "ABX9TyMLfyBYV7srCHGnYwCkLDbj",
      "include_colab_link": true
    },
    "kernelspec": {
      "name": "python3",
      "display_name": "Python 3"
    },
    "language_info": {
      "name": "python"
    }
  },
  "cells": [
    {
      "cell_type": "markdown",
      "metadata": {
        "id": "view-in-github",
        "colab_type": "text"
      },
      "source": [
        "<a href=\"https://colab.research.google.com/github/9more/Projects/blob/main/Neural_Network.ipynb\" target=\"_parent\"><img src=\"https://colab.research.google.com/assets/colab-badge.svg\" alt=\"Open In Colab\"/></a>"
      ]
    },
    {
      "cell_type": "markdown",
      "source": [
        "Neural Network algorithm for a single layer without custom libraries like Pytorch and Tensorflow.\n",
        "The model has four functions--model_train, model_eval, model_predict and history_graph. The step\n",
        "by step codes shows what goes on umder the hood.\n",
        "Feel free to use it for your analysis 😏"
      ],
      "metadata": {
        "id": "nypmufY9Odwg"
      }
    },
    {
      "cell_type": "code",
      "execution_count": 56,
      "metadata": {
        "id": "xDAegzq7w4pQ"
      },
      "outputs": [],
      "source": [
        "\"\"\"Neural Network algorithm for a single layer without custom libraries like Pytorch and Tensorflow.\n",
        "The model has four functions--model_train, model_eval, model_predict and history_graph. The step\n",
        "by step codes shows what goes on umder the hood.\n",
        "Feel free to use it for your analysis \"\"\"\n",
        "import numpy as np\n",
        "import pandas as pd\n",
        "import matplotlib.pyplot as plt\n",
        "\n",
        "history=[]\n",
        "def model_train(Xtrain, ytrain,activation='sigmoid'):\n",
        "  np.random.seed(8)\n",
        "  w=np.random.rand(1,5)\n",
        "  b=np.random.rand(1,)  #initialising weights\n",
        "  for i in range(500):\n",
        "    z=w@Xtrain.T + b\n",
        "    if activation=='relu':yhat=np.maximum(0,z)\n",
        "    else:yhat=1/(1+np.exp(-z))   #sigmoid function activation\n",
        "    e=yhat-label_train.T\n",
        "    history.append((e@e.T/len(Xtrain)).squeeze())\n",
        "    w=w-(e@Xtrain)*0.02/len(Xtrain)       # Gradient descent\n",
        "    b= b-(e.sum()*0.02)/len(Xtrain)\n",
        "  return w, b, yhat, history\n",
        "\n",
        "def model_eval(label_test, Xtest, w, b):\n",
        "  z=w@Xtest.T + b\n",
        "  yhat=1/(1+np.exp(-z))\n",
        "  score = np.where(yhat>=0.5,1,0)\n",
        "  accuracy = (score==label_test.T).sum()/20\n",
        "  FP = ((label_test.T == 0) & (score == 1)).sum()\n",
        "  TP = (label_test.T ==score).sum()\n",
        "  FN=((label_test.T == 1) & (score == 0)).sum()\n",
        "  TN=((label_test.T == 0) & (score == 0)).sum()\n",
        "  precision = TP/(TP+FP)\n",
        "  recall = TP/(TP+FN)\n",
        "  metrics = {'Accuracy': accuracy, 'Precision': precision, 'Recall': recall}\n",
        "  return metrics ,score, yhat, z\n",
        "\n",
        "def model_prediction(Xtest, w, b):\n",
        "  z=w.T*Xtest + b\n",
        "  yhat=1/(1+np.exp(-z))\n",
        "  return yhat\n",
        "\n",
        "def history_graph(history):\n",
        "  plt.style.use('ggplot')\n",
        "  plt.figure(figsize=(5,5))\n",
        "  plt.plot(history, color = 'r')\n",
        "  plt.title('History Graph')\n",
        "  plt.xlabel('Epochs')\n",
        "  plt.ylabel('Loss')\n",
        "  plt.show()\n"
      ]
    },
    {
      "cell_type": "markdown",
      "source": [
        "###Testing the algorith with generated random numbers"
      ],
      "metadata": {
        "id": "nDhaFXLBbvF1"
      }
    },
    {
      "cell_type": "code",
      "source": [
        "x, y= np.random.rand(100,5), np.random.rand(100,1)\n",
        "label= np.where(y>0.5,1,0)\n",
        "Xtrain, label_train= x[:80], label[:80]\n",
        "Xtest, label_test= x[80:], label[80:]"
      ],
      "metadata": {
        "id": "xCUQlgrkKBzq"
      },
      "execution_count": 57,
      "outputs": []
    },
    {
      "cell_type": "code",
      "source": [
        "new=model_train(Xtrain, label_train, activation='sigmoid')"
      ],
      "metadata": {
        "id": "XZFj8M74o6Gt"
      },
      "execution_count": 58,
      "outputs": []
    },
    {
      "cell_type": "code",
      "source": [
        "w, b, yhat, history=new[0], new[1], new[2], new[3]"
      ],
      "metadata": {
        "id": "nOStAaGLPWOQ"
      },
      "execution_count": 59,
      "outputs": []
    },
    {
      "cell_type": "code",
      "source": [
        "history_graph(history)"
      ],
      "metadata": {
        "colab": {
          "base_uri": "https://localhost:8080/",
          "height": 492
        },
        "id": "U6AZghxWVY5y",
        "outputId": "d3cdd1ec-31ab-4b5e-94dd-eceac203af4b"
      },
      "execution_count": 60,
      "outputs": [
        {
          "output_type": "display_data",
          "data": {
            "text/plain": [
              "<Figure size 500x500 with 1 Axes>"
            ],
            "image/png": "[encoded data removed]"
          },
          "metadata": {}
        }
      ]
    },
    {
      "cell_type": "code",
      "source": [
        "met= model_eval(label_test, Xtest, w, b)\n",
        "score, hat, z= met[1], met[2], met[3]\n",
        "print(score)\n",
        "print(hat)\n",
        "print(z)"
      ],
      "metadata": {
        "id": "9sRor8Zfn1dm"
      },
      "execution_count": null,
      "outputs": []
    }
  ]
}